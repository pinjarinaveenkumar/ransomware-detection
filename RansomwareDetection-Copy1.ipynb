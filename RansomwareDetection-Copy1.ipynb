{
 "cells": [
  {
   "cell_type": "code",
   "execution_count": null,
   "metadata": {},
   "outputs": [],
   "source": [
    "import warnings\n",
    "warnings.filterwarnings('ignore')"
   ]
  },
  {
   "cell_type": "code",
   "execution_count": 121,
   "metadata": {},
   "outputs": [],
   "source": [
    "#importing pythom classes and packages\n",
    "import numpy as np\n",
    "import pandas as pd\n",
    "import seaborn as sns\n",
    "from sklearn.preprocessing import LabelEncoder\n",
    "import os\n",
    "from keras.callbacks import ModelCheckpoint \n",
    "import pickle\n",
    "from keras.layers import LSTM #load LSTM class\n",
    "from keras.utils.np_utils import to_categorical\n",
    "from keras.layers import  MaxPooling2D\n",
    "from keras.layers import Dense, Dropout, Activation, Flatten #load DNN dense layers\n",
    "from keras.layers import Convolution2D #load CNN model\n",
    "from keras.models import Sequential, Model\n",
    "from sklearn.preprocessing import MinMaxScaler\n",
    "from sklearn.metrics import accuracy_score\n",
    "from sklearn.model_selection import train_test_split\n",
    "from sklearn.feature_selection import RFECV\n",
    "from sklearn.svm import SVR\n",
    "from sklearn.metrics import precision_score\n",
    "from sklearn.metrics import recall_score\n",
    "from sklearn.metrics import f1_score\n",
    "from sklearn.metrics import confusion_matrix\n",
    "import matplotlib.pyplot as plt\n",
    "from xgboost import XGBClassifier #load ML classes\n",
    "from sklearn.neighbors import KNeighborsClassifier\n",
    "from sklearn.tree import DecisionTreeClassifier\n",
    "from sklearn import svm\n",
    "from sklearn.ensemble import RandomForestClassifier\n"
   ]
  },
  {
   "cell_type": "code",
   "execution_count": 122,
   "metadata": {},
   "outputs": [],
   "source": [
    "#define minmax object for features normalization\n",
    "scaler = MinMaxScaler(feature_range = (0, 1)) #use to normalize training data"
   ]
  },
  {
   "cell_type": "code",
   "execution_count": 123,
   "metadata": {},
   "outputs": [
    {
     "data": {
      "text/html": [
       "<div>\n",
       "<style scoped>\n",
       "    .dataframe tbody tr th:only-of-type {\n",
       "        vertical-align: middle;\n",
       "    }\n",
       "\n",
       "    .dataframe tbody tr th {\n",
       "        vertical-align: top;\n",
       "    }\n",
       "\n",
       "    .dataframe thead th {\n",
       "        text-align: right;\n",
       "    }\n",
       "</style>\n",
       "<table border=\"1\" class=\"dataframe\">\n",
       "  <thead>\n",
       "    <tr style=\"text-align: right;\">\n",
       "      <th></th>\n",
       "      <th>instructions</th>\n",
       "      <th>LLC-stores</th>\n",
       "      <th>L1-icache-load-misses</th>\n",
       "      <th>branch-load-misses</th>\n",
       "      <th>node-load-misses</th>\n",
       "      <th>rd_req</th>\n",
       "      <th>rd_bytes</th>\n",
       "      <th>wr_req</th>\n",
       "      <th>wr_bytes</th>\n",
       "      <th>flush_operations</th>\n",
       "      <th>rd_total_times</th>\n",
       "      <th>wr_total_times</th>\n",
       "      <th>flush_total_times</th>\n",
       "      <th>label</th>\n",
       "    </tr>\n",
       "  </thead>\n",
       "  <tbody>\n",
       "    <tr>\n",
       "      <th>0</th>\n",
       "      <td>77556160.0</td>\n",
       "      <td>9575.0</td>\n",
       "      <td>257517.0</td>\n",
       "      <td>215949.0</td>\n",
       "      <td>0.0</td>\n",
       "      <td>0</td>\n",
       "      <td>0</td>\n",
       "      <td>8</td>\n",
       "      <td>147456</td>\n",
       "      <td>4</td>\n",
       "      <td>0</td>\n",
       "      <td>3596349</td>\n",
       "      <td>4524778</td>\n",
       "      <td>1</td>\n",
       "    </tr>\n",
       "    <tr>\n",
       "      <th>1</th>\n",
       "      <td>32981037.0</td>\n",
       "      <td>16800.0</td>\n",
       "      <td>797990.0</td>\n",
       "      <td>140417.0</td>\n",
       "      <td>2.0</td>\n",
       "      <td>0</td>\n",
       "      <td>0</td>\n",
       "      <td>0</td>\n",
       "      <td>0</td>\n",
       "      <td>0</td>\n",
       "      <td>0</td>\n",
       "      <td>0</td>\n",
       "      <td>0</td>\n",
       "      <td>1</td>\n",
       "    </tr>\n",
       "    <tr>\n",
       "      <th>2</th>\n",
       "      <td>11049222.0</td>\n",
       "      <td>5302.0</td>\n",
       "      <td>204689.0</td>\n",
       "      <td>55819.0</td>\n",
       "      <td>0.0</td>\n",
       "      <td>0</td>\n",
       "      <td>0</td>\n",
       "      <td>0</td>\n",
       "      <td>0</td>\n",
       "      <td>0</td>\n",
       "      <td>0</td>\n",
       "      <td>0</td>\n",
       "      <td>0</td>\n",
       "      <td>1</td>\n",
       "    </tr>\n",
       "    <tr>\n",
       "      <th>3</th>\n",
       "      <td>4968323.0</td>\n",
       "      <td>5252.0</td>\n",
       "      <td>188982.0</td>\n",
       "      <td>34310.0</td>\n",
       "      <td>0.0</td>\n",
       "      <td>0</td>\n",
       "      <td>0</td>\n",
       "      <td>0</td>\n",
       "      <td>0</td>\n",
       "      <td>0</td>\n",
       "      <td>0</td>\n",
       "      <td>0</td>\n",
       "      <td>0</td>\n",
       "      <td>1</td>\n",
       "    </tr>\n",
       "    <tr>\n",
       "      <th>4</th>\n",
       "      <td>15314480.0</td>\n",
       "      <td>11345.0</td>\n",
       "      <td>601098.0</td>\n",
       "      <td>112428.0</td>\n",
       "      <td>0.0</td>\n",
       "      <td>0</td>\n",
       "      <td>0</td>\n",
       "      <td>0</td>\n",
       "      <td>0</td>\n",
       "      <td>0</td>\n",
       "      <td>0</td>\n",
       "      <td>0</td>\n",
       "      <td>0</td>\n",
       "      <td>1</td>\n",
       "    </tr>\n",
       "    <tr>\n",
       "      <th>...</th>\n",
       "      <td>...</td>\n",
       "      <td>...</td>\n",
       "      <td>...</td>\n",
       "      <td>...</td>\n",
       "      <td>...</td>\n",
       "      <td>...</td>\n",
       "      <td>...</td>\n",
       "      <td>...</td>\n",
       "      <td>...</td>\n",
       "      <td>...</td>\n",
       "      <td>...</td>\n",
       "      <td>...</td>\n",
       "      <td>...</td>\n",
       "      <td>...</td>\n",
       "    </tr>\n",
       "    <tr>\n",
       "      <th>5995</th>\n",
       "      <td>58694891.0</td>\n",
       "      <td>1827.0</td>\n",
       "      <td>9147.0</td>\n",
       "      <td>468151.0</td>\n",
       "      <td>0.0</td>\n",
       "      <td>0</td>\n",
       "      <td>0</td>\n",
       "      <td>0</td>\n",
       "      <td>0</td>\n",
       "      <td>0</td>\n",
       "      <td>0</td>\n",
       "      <td>0</td>\n",
       "      <td>0</td>\n",
       "      <td>0</td>\n",
       "    </tr>\n",
       "    <tr>\n",
       "      <th>5996</th>\n",
       "      <td>51471771.0</td>\n",
       "      <td>863.0</td>\n",
       "      <td>3740.0</td>\n",
       "      <td>521066.0</td>\n",
       "      <td>0.0</td>\n",
       "      <td>0</td>\n",
       "      <td>0</td>\n",
       "      <td>0</td>\n",
       "      <td>0</td>\n",
       "      <td>0</td>\n",
       "      <td>0</td>\n",
       "      <td>0</td>\n",
       "      <td>0</td>\n",
       "      <td>0</td>\n",
       "    </tr>\n",
       "    <tr>\n",
       "      <th>5997</th>\n",
       "      <td>49304168.0</td>\n",
       "      <td>5280.0</td>\n",
       "      <td>12560.0</td>\n",
       "      <td>480046.0</td>\n",
       "      <td>0.0</td>\n",
       "      <td>0</td>\n",
       "      <td>0</td>\n",
       "      <td>2</td>\n",
       "      <td>28672</td>\n",
       "      <td>1</td>\n",
       "      <td>0</td>\n",
       "      <td>503895</td>\n",
       "      <td>2094439</td>\n",
       "      <td>0</td>\n",
       "    </tr>\n",
       "    <tr>\n",
       "      <th>5998</th>\n",
       "      <td>55666764.0</td>\n",
       "      <td>13175.0</td>\n",
       "      <td>53589.0</td>\n",
       "      <td>529373.0</td>\n",
       "      <td>0.0</td>\n",
       "      <td>0</td>\n",
       "      <td>0</td>\n",
       "      <td>0</td>\n",
       "      <td>0</td>\n",
       "      <td>0</td>\n",
       "      <td>0</td>\n",
       "      <td>0</td>\n",
       "      <td>0</td>\n",
       "      <td>0</td>\n",
       "    </tr>\n",
       "    <tr>\n",
       "      <th>5999</th>\n",
       "      <td>50258111.0</td>\n",
       "      <td>5596.0</td>\n",
       "      <td>58048.0</td>\n",
       "      <td>526161.0</td>\n",
       "      <td>3.0</td>\n",
       "      <td>0</td>\n",
       "      <td>0</td>\n",
       "      <td>0</td>\n",
       "      <td>0</td>\n",
       "      <td>0</td>\n",
       "      <td>0</td>\n",
       "      <td>0</td>\n",
       "      <td>0</td>\n",
       "      <td>0</td>\n",
       "    </tr>\n",
       "  </tbody>\n",
       "</table>\n",
       "<p>6000 rows × 14 columns</p>\n",
       "</div>"
      ],
      "text/plain": [
       "      instructions  LLC-stores  L1-icache-load-misses  branch-load-misses  \\\n",
       "0       77556160.0      9575.0               257517.0            215949.0   \n",
       "1       32981037.0     16800.0               797990.0            140417.0   \n",
       "2       11049222.0      5302.0               204689.0             55819.0   \n",
       "3        4968323.0      5252.0               188982.0             34310.0   \n",
       "4       15314480.0     11345.0               601098.0            112428.0   \n",
       "...            ...         ...                    ...                 ...   \n",
       "5995    58694891.0      1827.0                 9147.0            468151.0   \n",
       "5996    51471771.0       863.0                 3740.0            521066.0   \n",
       "5997    49304168.0      5280.0                12560.0            480046.0   \n",
       "5998    55666764.0     13175.0                53589.0            529373.0   \n",
       "5999    50258111.0      5596.0                58048.0            526161.0   \n",
       "\n",
       "      node-load-misses  rd_req  rd_bytes  wr_req  wr_bytes  flush_operations  \\\n",
       "0                  0.0       0         0       8    147456                 4   \n",
       "1                  2.0       0         0       0         0                 0   \n",
       "2                  0.0       0         0       0         0                 0   \n",
       "3                  0.0       0         0       0         0                 0   \n",
       "4                  0.0       0         0       0         0                 0   \n",
       "...                ...     ...       ...     ...       ...               ...   \n",
       "5995               0.0       0         0       0         0                 0   \n",
       "5996               0.0       0         0       0         0                 0   \n",
       "5997               0.0       0         0       2     28672                 1   \n",
       "5998               0.0       0         0       0         0                 0   \n",
       "5999               3.0       0         0       0         0                 0   \n",
       "\n",
       "      rd_total_times  wr_total_times  flush_total_times  label  \n",
       "0                  0         3596349            4524778      1  \n",
       "1                  0               0                  0      1  \n",
       "2                  0               0                  0      1  \n",
       "3                  0               0                  0      1  \n",
       "4                  0               0                  0      1  \n",
       "...              ...             ...                ...    ...  \n",
       "5995               0               0                  0      0  \n",
       "5996               0               0                  0      0  \n",
       "5997               0          503895            2094439      0  \n",
       "5998               0               0                  0      0  \n",
       "5999               0               0                  0      0  \n",
       "\n",
       "[6000 rows x 14 columns]"
      ]
     },
     "execution_count": 123,
     "metadata": {},
     "output_type": "execute_result"
    }
   ],
   "source": [
    "#load and display dataset values\n",
    "dataset = pd.read_csv(\"Dataset/hpc_io_data.csv\")\n",
    "dataset.fillna(0, inplace = True)#replace missing values\n",
    "dataset"
   ]
  },
  {
   "cell_type": "code",
   "execution_count": 124,
   "metadata": {},
   "outputs": [
    {
     "data": {
      "image/png": "[encoded data removed]",
      "text/plain": [
       "<Figure size 432x288 with 1 Axes>"
      ]
     },
     "metadata": {
      "needs_background": "light"
     },
     "output_type": "display_data"
    }
   ],
   "source": [
    "#find and plot graph of ransomware and benign from dataset where 0 label refers as benign and 1 refer as ransomware\n",
    "#plot labels in dataset\n",
    "labels, count = np.unique(dataset['label'], return_counts = True)\n",
    "labels = ['Benign', 'Ransomware']\n",
    "height = count\n",
    "bars = labels\n",
    "y_pos = np.arange(len(bars))\n",
    "plt.bar(y_pos, height)\n",
    "plt.xticks(y_pos, bars)\n",
    "plt.xlabel(\"Dataset Class Label Graph\")\n",
    "plt.ylabel(\"Count\")\n",
    "plt.show()"
   ]
  },
  {
   "cell_type": "code",
   "execution_count": 125,
   "metadata": {},
   "outputs": [
    {
     "name": "stdout",
     "output_type": "stream",
     "text": [
      "Normalized Features\n",
      "[[0.00530148 0.02931467 0.43999663 ... 0.         0.         0.        ]\n",
      " [0.13304726 0.00074967 0.26318383 ... 0.         0.         0.        ]\n",
      " [0.13829665 0.02008524 0.42642953 ... 0.         0.01188581 0.        ]\n",
      " ...\n",
      " [0.41117164 0.54222022 0.12341722 ... 0.0085662  0.00240994 0.        ]\n",
      " [0.08079283 0.00061719 0.26642094 ... 0.         0.         0.        ]\n",
      " [0.07774109 0.01879526 0.61288714 ... 0.         0.         0.        ]]\n"
     ]
    }
   ],
   "source": [
    "#dataset preprocessing such as normalization and shuffling\n",
    "data = dataset.values\n",
    "X = data[:,1:data.shape[1]-1]\n",
    "Y = data[:,data.shape[1]-1]\n",
    "Y = Y.astype(int)\n",
    "\n",
    "indices = np.arange(X.shape[0])\n",
    "np.random.shuffle(indices)#shuffle dataset values\n",
    "X = X[indices]\n",
    "Y = Y[indices]\n",
    "\n",
    "scaler = MinMaxScaler((0,1))\n",
    "X = scaler.fit_transform(X)#normalized or transform features\n",
    "print(\"Normalized Features\")\n",
    "print(X)"
   ]
  },
  {
   "cell_type": "code",
   "execution_count": 126,
   "metadata": {},
   "outputs": [
    {
     "name": "stdout",
     "output_type": "stream",
     "text": [
      "\n",
      "Dataset train & test split as 80% dataset for training and 20% for testing\n",
      "Training Size (80%): 4800\n",
      "Testing Size (20%): 1200\n",
      "\n"
     ]
    }
   ],
   "source": [
    "#split dataset into train and test\n",
    "X_train, X_test, y_train, y_test = train_test_split(X, Y, test_size=0.2)\n",
    "print()\n",
    "print(\"Dataset train & test split as 80% dataset for training and 20% for testing\")\n",
    "print(\"Training Size (80%): \"+str(X_train.shape[0])) #print training and test size\n",
    "print(\"Testing Size (20%): \"+str(X_test.shape[0]))\n",
    "print()"
   ]
  },
  {
   "cell_type": "code",
   "execution_count": 127,
   "metadata": {},
   "outputs": [],
   "source": [
    "#define global variables to calculate and store accuracy and other metrics\n",
    "precision = []\n",
    "recall = []\n",
    "fscore = []\n",
    "accuracy = []"
   ]
  },
  {
   "cell_type": "code",
   "execution_count": 128,
   "metadata": {},
   "outputs": [],
   "source": [
    "#function to calculate various metrics such as accuracy, precision etc\n",
    "def calculateMetrics(algorithm, predict, testY):\n",
    "    p = precision_score(testY, predict,average='macro') * 100\n",
    "    r = recall_score(testY, predict,average='macro') * 100\n",
    "    f = f1_score(testY, predict,average='macro') * 100\n",
    "    a = accuracy_score(testY,predict)*100     \n",
    "    print()\n",
    "    print(algorithm+' Accuracy  : '+str(a))\n",
    "    print(algorithm+' Precision   : '+str(p))\n",
    "    print(algorithm+' Recall      : '+str(r))\n",
    "    print(algorithm+' FMeasure    : '+str(f))    \n",
    "    accuracy.append(a)\n",
    "    precision.append(p)\n",
    "    recall.append(r)\n",
    "    fscore.append(f)\n",
    "    conf_matrix = confusion_matrix(testY, predict) \n",
    "    plt.figure(figsize =(5, 5)) \n",
    "    ax = sns.heatmap(conf_matrix, xticklabels = labels, yticklabels = labels, annot = True, cmap=\"viridis\" ,fmt =\"g\");\n",
    "    ax.set_ylim([0,len(labels)])\n",
    "    plt.title(algorithm+\" Confusion matrix\") \n",
    "    plt.ylabel('True class') \n",
    "    plt.xlabel('Predicted class') \n",
    "    plt.show()"
   ]
  },
  {
   "cell_type": "code",
   "execution_count": 129,
   "metadata": {},
   "outputs": [
    {
     "name": "stdout",
     "output_type": "stream",
     "text": [
      "\n",
      "SVM Accuracy  : 88.83333333333333\n",
      "SVM Precision   : 90.90909090909092\n",
      "SVM Recall      : 88.77721943048576\n",
      "SVM FMeasure    : 88.67924528301887\n"
     ]
    },
    {
     "data": {
      "image/png": "[encoded data removed]",
      "text/plain": [
       "<Figure size 360x360 with 2 Axes>"
      ]
     },
     "metadata": {
      "needs_background": "light"
     },
     "output_type": "display_data"
    }
   ],
   "source": [
    "#now train SVM algorithm on training features and then test on testing features to calculate accuracy and other metrics\n",
    "svm_cls = svm.SVC(kernel=\"poly\", gamma=\"scale\", C=0.004)\n",
    "svm_cls.fit(X_train, y_train)\n",
    "predict = svm_cls.predict(X_test)\n",
    "calculateMetrics(\"SVM\", predict, y_test)"
   ]
  },
  {
   "cell_type": "code",
   "execution_count": 130,
   "metadata": {},
   "outputs": [
    {
     "name": "stdout",
     "output_type": "stream",
     "text": [
      "\n",
      "KNN Accuracy  : 97.33333333333334\n",
      "KNN Precision   : 97.43205655433944\n",
      "KNN Recall      : 97.32243306082653\n",
      "KNN FMeasure    : 97.33143568760008\n"
     ]
    },
    {
     "data": {
      "image/png": "[encoded data removed]",
      "text/plain": [
       "<Figure size 360x360 with 2 Axes>"
      ]
     },
     "metadata": {
      "needs_background": "light"
     },
     "output_type": "display_data"
    }
   ],
   "source": [
    "#now training KNN algorithm\n",
    "knn_cls =  KNeighborsClassifier(n_neighbors=500)\n",
    "knn_cls.fit(X_train, y_train)\n",
    "predict = knn_cls.predict(X_test)\n",
    "calculateMetrics(\"KNN\", predict, y_test)"
   ]
  },
  {
   "cell_type": "code",
   "execution_count": 131,
   "metadata": {},
   "outputs": [
    {
     "name": "stdout",
     "output_type": "stream",
     "text": [
      "\n",
      "Decision Tree Accuracy  : 93.91666666666667\n",
      "Decision Tree Precision   : 94.32612984218079\n",
      "Decision Tree Recall      : 93.9410985274632\n",
      "Decision Tree FMeasure    : 93.9047767485324\n"
     ]
    },
    {
     "data": {
      "image/png": "[encoded data removed]",
      "text/plain": [
       "<Figure size 360x360 with 2 Axes>"
      ]
     },
     "metadata": {
      "needs_background": "light"
     },
     "output_type": "display_data"
    }
   ],
   "source": [
    "#now train decision tree classifier with hyper parameters\n",
    "dt_cls = DecisionTreeClassifier(criterion = \"entropy\",max_leaf_nodes=2,max_features=\"auto\")#giving hyper input parameter values\n",
    "dt_cls.fit(X_train, y_train)\n",
    "predict = dt_cls.predict(X_test)\n",
    "calculateMetrics(\"Decision Tree\", predict, y_test)"
   ]
  },
  {
   "cell_type": "code",
   "execution_count": 132,
   "metadata": {},
   "outputs": [
    {
     "name": "stdout",
     "output_type": "stream",
     "text": [
      "\n",
      "Random Forest Accuracy  : 98.0\n",
      "Random Forest Precision   : 98.00705158660699\n",
      "Random Forest Recall      : 97.9974499362484\n",
      "Random Forest FMeasure    : 97.99979997999799\n"
     ]
    },
    {
     "data": {
      "image/png": "[encoded data removed]",
      "text/plain": [
       "<Figure size 360x360 with 2 Axes>"
      ]
     },
     "metadata": {
      "needs_background": "light"
     },
     "output_type": "display_data"
    }
   ],
   "source": [
    "#training random Forest algortihm\n",
    "rf = RandomForestClassifier(n_estimators=40, criterion='gini', max_features=\"log2\", min_weight_fraction_leaf=0.3)\n",
    "rf.fit(X_train, y_train)\n",
    "predict = rf.predict(X_test)\n",
    "calculateMetrics(\"Random Forest\", predict, y_test)"
   ]
  },
  {
   "cell_type": "code",
   "execution_count": 133,
   "metadata": {},
   "outputs": [
    {
     "name": "stdout",
     "output_type": "stream",
     "text": [
      "\n",
      "XGBoost Accuracy  : 98.0\n",
      "XGBoost Precision   : 98.05610626211283\n",
      "XGBoost Recall      : 98.00911689458903\n",
      "XGBoost FMeasure    : 97.99964438122333\n"
     ]
    },
    {
     "data": {
      "image/png": "[encoded data removed]",
      "text/plain": [
       "<Figure size 360x360 with 2 Axes>"
      ]
     },
     "metadata": {
      "needs_background": "light"
     },
     "output_type": "display_data"
    }
   ],
   "source": [
    "#now train XGBoost algorithm\n",
    "xgb_cls = XGBClassifier(n_estimators=10,learning_rate=0.09,max_depth=2)\n",
    "xgb_cls.fit(X_train, y_train)\n",
    "predict = xgb_cls.predict(X_test)\n",
    "calculateMetrics(\"XGBoost\", predict, y_test)"
   ]
  },
  {
   "cell_type": "code",
   "execution_count": 134,
   "metadata": {},
   "outputs": [
    {
     "name": "stdout",
     "output_type": "stream",
     "text": [
      "\n",
      "DNN Accuracy  : 88.58333333333334\n",
      "DNN Precision   : 90.66757493188011\n",
      "DNN Recall      : 88.64013266998342\n",
      "DNN FMeasure    : 88.44563580278584\n"
     ]
    },
    {
     "data": {
      "image/png": "[encoded data removed]",
      "text/plain": [
       "<Figure size 360x360 with 2 Axes>"
      ]
     },
     "metadata": {
      "needs_background": "light"
     },
     "output_type": "display_data"
    }
   ],
   "source": [
    "#train DNN algortihm\n",
    "y_train1 = to_categorical(y_train)\n",
    "y_test1 = to_categorical(y_test)\n",
    "#define DNN object\n",
    "dnn_model = Sequential()\n",
    "#add DNN layers\n",
    "dnn_model.add(Dense(2, input_shape=(X_train.shape[1],), activation='relu'))\n",
    "dnn_model.add(Dense(2, activation='relu'))\n",
    "dnn_model.add(Dropout(0.3))\n",
    "dnn_model.add(Dense(y_train1.shape[1], activation='softmax'))\n",
    "# compile the keras model\n",
    "dnn_model.compile(loss='categorical_crossentropy', optimizer='adam', metrics=['accuracy'])\n",
    "#start training model on train data and perform validation on test data\n",
    "#train and load the model\n",
    "if os.path.exists(\"model/dnn_weights.hdf5\") == False:\n",
    "    model_check_point = ModelCheckpoint(filepath='model/dnn_weights.hdf5', verbose = 1, save_best_only = True)\n",
    "    hist = dnn_model.fit(X_train, y_train1, batch_size = 32, epochs = 10, validation_data=(X_test, y_test1), callbacks=[model_check_point], verbose=1)\n",
    "    f = open('model/dnn_history.pckl', 'wb')\n",
    "    pickle.dump(hist.history, f)\n",
    "    f.close()    \n",
    "else:\n",
    "    dnn_model.load_weights(\"model/dnn_weights.hdf5\")\n",
    "#perform prediction on test data    \n",
    "predict = dnn_model.predict(X_test)\n",
    "predict = np.argmax(predict, axis=1)\n",
    "testY = np.argmax(y_test1, axis=1)\n",
    "calculateMetrics(\"DNN\", predict, testY)#call function to calculate accuracy and other metrics\n"
   ]
  },
  {
   "cell_type": "code",
   "execution_count": 135,
   "metadata": {},
   "outputs": [
    {
     "name": "stdout",
     "output_type": "stream",
     "text": [
      "\n",
      "LSTM Accuracy  : 93.08333333333333\n",
      "LSTM Precision   : 93.13959955506118\n",
      "LSTM Recall      : 93.0927439852663\n",
      "LSTM FMeasure    : 93.08194491811204\n"
     ]
    },
    {
     "data": {
      "image/png": "[encoded data removed]",
      "text/plain": [
       "<Figure size 360x360 with 2 Axes>"
      ]
     },
     "metadata": {
      "needs_background": "light"
     },
     "output_type": "display_data"
    }
   ],
   "source": [
    "#now train LSTM algorithm\n",
    "X_train1 = np.reshape(X_train, (X_train.shape[0], X_train.shape[1], 1))\n",
    "X_test1 = np.reshape(X_test, (X_test.shape[0], X_test.shape[1], 1))\n",
    "\n",
    "lstm_model = Sequential()#defining deep learning sequential object\n",
    "#adding LSTM layer with 100 filters to filter given input X train data to select relevant features\n",
    "lstm_model.add(LSTM(32,input_shape=(X_train1.shape[1], X_train1.shape[2])))\n",
    "#adding dropout layer to remove irrelevant features\n",
    "lstm_model.add(Dropout(0.2))\n",
    "#adding another layer\n",
    "lstm_model.add(Dense(32, activation='relu'))\n",
    "#defining output layer for prediction\n",
    "lstm_model.add(Dense(y_train1.shape[1], activation='softmax'))\n",
    "#compile LSTM model\n",
    "lstm_model.compile(loss='categorical_crossentropy', optimizer='adam', metrics=['accuracy'])\n",
    "#start training model on train data and perform validation on test data\n",
    "#train and load the model\n",
    "if os.path.exists(\"model/lstm_weights.hdf5\") == False:\n",
    "    model_check_point = ModelCheckpoint(filepath='model/lstm_weights.hdf5', verbose = 1, save_best_only = True)\n",
    "    hist = lstm_model.fit(X_train1, y_train1, batch_size = 32, epochs = 10, validation_data=(X_test1, y_test1), callbacks=[model_check_point], verbose=1)\n",
    "    f = open('model/lstm_history.pckl', 'wb')\n",
    "    pickle.dump(hist.history, f)\n",
    "    f.close()    \n",
    "else:\n",
    "    lstm_model.load_weights(\"model/lstm_weights.hdf5\")\n",
    "#perform prediction on test data    \n",
    "predict = lstm_model.predict(X_test1)\n",
    "predict = np.argmax(predict, axis=1)\n",
    "testY = np.argmax(y_test1, axis=1)\n",
    "calculateMetrics(\"LSTM\", predict, testY)#call function to calculate accuracy and other metrics"
   ]
  },
  {
   "cell_type": "code",
   "execution_count": 136,
   "metadata": {},
   "outputs": [
    {
     "name": "stdout",
     "output_type": "stream",
     "text": [
      "\n",
      "Extension CNN2D Accuracy  : 98.83333333333333\n",
      "Extension CNN2D Precision   : 98.85084942653634\n",
      "Extension CNN2D Recall      : 98.82913739510155\n",
      "Extension CNN2D FMeasure    : 98.83312588904694\n"
     ]
    },
    {
     "data": {
      "image/png": "[encoded data removed]",
      "text/plain": [
       "<Figure size 360x360 with 2 Axes>"
      ]
     },
     "metadata": {
      "needs_background": "light"
     },
     "output_type": "display_data"
    }
   ],
   "source": [
    "#now train extension CNN algorithm\n",
    "X_train1 = np.reshape(X_train, (X_train.shape[0], X_train.shape[1], 1, 1))\n",
    "X_test1 = np.reshape(X_test, (X_test.shape[0], X_test.shape[1], 1, 1))\n",
    "#define extension CNN model object\n",
    "cnn_model = Sequential()\n",
    "#adding CNN layer wit 32 filters to optimized dataset features using 32 neurons\n",
    "cnn_model.add(Convolution2D(64, (1, 1), input_shape = (X_train1.shape[1], X_train1.shape[2], X_train1.shape[3]), activation = 'relu'))\n",
    "#adding maxpooling layer to collect filtered relevant features from previous CNN layer\n",
    "cnn_model.add(MaxPooling2D(pool_size = (1, 1)))\n",
    "#adding another CNN layer to further filtered features\n",
    "cnn_model.add(Convolution2D(32, (1, 1), activation = 'relu'))\n",
    "cnn_model.add(MaxPooling2D(pool_size = (1, 1)))\n",
    "#collect relevant filtered features\n",
    "cnn_model.add(Flatten())\n",
    "cnn_model.add(Dropout(0.2))\n",
    "#defining output layers\n",
    "cnn_model.add(Dense(units = 256, activation = 'relu'))\n",
    "#defining prediction layer with Y target data\n",
    "cnn_model.add(Dense(units = y_train1.shape[1], activation = 'softmax'))\n",
    "#compile the CNN with LSTM model\n",
    "cnn_model.compile(optimizer = 'adam', loss = 'categorical_crossentropy', metrics = ['accuracy'])\n",
    "#train and load the model\n",
    "if os.path.exists(\"model/cnn_weights.hdf5\") == False:\n",
    "    model_check_point = ModelCheckpoint(filepath='model/cnn_weights.hdf5', verbose = 1, save_best_only = True)\n",
    "    hist = cnn_model.fit(X_train1, y_train1, batch_size = 8, epochs = 10, validation_data=(X_test1, y_test1), callbacks=[model_check_point], verbose=1)\n",
    "    f = open('model/cnn_history.pckl', 'wb')\n",
    "    pickle.dump(hist.history, f)\n",
    "    f.close()    \n",
    "else:\n",
    "    cnn_model.load_weights(\"model/cnn_weights.hdf5\")\n",
    "#perform prediction on test data        \n",
    "predict = cnn_model.predict(X_test1)\n",
    "predict = np.argmax(predict, axis=1)\n",
    "testY = np.argmax(y_test1, axis=1)\n",
    "calculateMetrics(\"Extension CNN2D\", predict, testY)#call function to calculate accuracy and other metrics"
   ]
  },
  {
   "cell_type": "code",
   "execution_count": 137,
   "metadata": {},
   "outputs": [
    {
     "data": {
      "image/png": "[encoded data removed]",
      "text/plain": [
       "<Figure size 432x288 with 1 Axes>"
      ]
     },
     "metadata": {
      "needs_background": "light"
     },
     "output_type": "display_data"
    }
   ],
   "source": [
    "#plot comparison graph between all algorithms\n",
    "df = pd.DataFrame([['SVM','Precision',precision[0]],['SVM','Recall',recall[0]],['SVM','F1 Score',fscore[0]],['SVM','Accuracy',accuracy[0]],\n",
    "                   ['KNN','Precision',precision[1]],['KNN','Recall',recall[1]],['KNN','F1 Score',fscore[1]],['KNN','Accuracy',accuracy[1]],\n",
    "                   ['Decision Tree','Precision',precision[2]],['Decision Tree','Recall',recall[2]],['Decision Tree','F1 Score',fscore[2]],['Decision Tree','Accuracy',accuracy[2]],\n",
    "                   ['Random Forest','Precision',precision[3]],['Random Forest','Recall',recall[3]],['Random Forest','F1 Score',fscore[3]],['Random Forest','Accuracy',accuracy[3]],\n",
    "                   ['XGBoost','Precision',precision[4]],['XGBoost','Recall',recall[4]],['XGBoost','F1 Score',fscore[4]],['XGBoost','Accuracy',accuracy[4]],\n",
    "                   ['DNN','Precision',precision[5]],['DNN','Recall',recall[5]],['DNN','F1 Score',fscore[5]],['DNN','Accuracy',accuracy[5]],\n",
    "                   ['LSTM','Precision',precision[6]],['LSTM','Recall',recall[6]],['LSTM','F1 Score',fscore[6]],['LSTM','Accuracy',accuracy[6]],\n",
    "                   ['Extension CNN','Precision',precision[7]],['Extension CNN','Recall',recall[7]],['Extension CNN','F1 Score',fscore[7]],['Extension CNN','Accuracy',accuracy[7]],\n",
    "                  ],columns=['Parameters','Algorithms','Value'])\n",
    "df.pivot(\"Parameters\", \"Algorithms\", \"Value\").plot(kind='bar')\n",
    "plt.title(\"All Algorithms Performance Graph\")\n",
    "plt.show()"
   ]
  },
  {
   "cell_type": "code",
   "execution_count": 138,
   "metadata": {},
   "outputs": [
    {
     "data": {
      "text/html": [
       "<div>\n",
       "<style scoped>\n",
       "    .dataframe tbody tr th:only-of-type {\n",
       "        vertical-align: middle;\n",
       "    }\n",
       "\n",
       "    .dataframe tbody tr th {\n",
       "        vertical-align: top;\n",
       "    }\n",
       "\n",
       "    .dataframe thead th {\n",
       "        text-align: right;\n",
       "    }\n",
       "</style>\n",
       "<table border=\"1\" class=\"dataframe\">\n",
       "  <thead>\n",
       "    <tr style=\"text-align: right;\">\n",
       "      <th></th>\n",
       "      <th>Algorithm Name</th>\n",
       "      <th>Precison</th>\n",
       "      <th>Recall</th>\n",
       "      <th>FScore</th>\n",
       "      <th>Accuracy</th>\n",
       "    </tr>\n",
       "  </thead>\n",
       "  <tbody>\n",
       "    <tr>\n",
       "      <th>0</th>\n",
       "      <td>SVM</td>\n",
       "      <td>90.909091</td>\n",
       "      <td>88.777219</td>\n",
       "      <td>88.679245</td>\n",
       "      <td>88.833333</td>\n",
       "    </tr>\n",
       "    <tr>\n",
       "      <th>1</th>\n",
       "      <td>KNN</td>\n",
       "      <td>97.432057</td>\n",
       "      <td>97.322433</td>\n",
       "      <td>97.331436</td>\n",
       "      <td>97.333333</td>\n",
       "    </tr>\n",
       "    <tr>\n",
       "      <th>2</th>\n",
       "      <td>Decision Tree</td>\n",
       "      <td>94.326130</td>\n",
       "      <td>93.941099</td>\n",
       "      <td>93.904777</td>\n",
       "      <td>93.916667</td>\n",
       "    </tr>\n",
       "    <tr>\n",
       "      <th>3</th>\n",
       "      <td>Random Forest</td>\n",
       "      <td>98.007052</td>\n",
       "      <td>97.997450</td>\n",
       "      <td>97.999800</td>\n",
       "      <td>98.000000</td>\n",
       "    </tr>\n",
       "    <tr>\n",
       "      <th>4</th>\n",
       "      <td>XGBoost</td>\n",
       "      <td>98.056106</td>\n",
       "      <td>98.009117</td>\n",
       "      <td>97.999644</td>\n",
       "      <td>98.000000</td>\n",
       "    </tr>\n",
       "    <tr>\n",
       "      <th>5</th>\n",
       "      <td>DNN</td>\n",
       "      <td>90.667575</td>\n",
       "      <td>88.640133</td>\n",
       "      <td>88.445636</td>\n",
       "      <td>88.583333</td>\n",
       "    </tr>\n",
       "    <tr>\n",
       "      <th>6</th>\n",
       "      <td>LSTM</td>\n",
       "      <td>93.139600</td>\n",
       "      <td>93.092744</td>\n",
       "      <td>93.081945</td>\n",
       "      <td>93.083333</td>\n",
       "    </tr>\n",
       "    <tr>\n",
       "      <th>7</th>\n",
       "      <td>Extension CNN</td>\n",
       "      <td>98.850849</td>\n",
       "      <td>98.829137</td>\n",
       "      <td>98.833126</td>\n",
       "      <td>98.833333</td>\n",
       "    </tr>\n",
       "  </tbody>\n",
       "</table>\n",
       "</div>"
      ],
      "text/plain": [
       "  Algorithm Name   Precison     Recall     FScore   Accuracy\n",
       "0            SVM  90.909091  88.777219  88.679245  88.833333\n",
       "1            KNN  97.432057  97.322433  97.331436  97.333333\n",
       "2  Decision Tree  94.326130  93.941099  93.904777  93.916667\n",
       "3  Random Forest  98.007052  97.997450  97.999800  98.000000\n",
       "4        XGBoost  98.056106  98.009117  97.999644  98.000000\n",
       "5            DNN  90.667575  88.640133  88.445636  88.583333\n",
       "6           LSTM  93.139600  93.092744  93.081945  93.083333\n",
       "7  Extension CNN  98.850849  98.829137  98.833126  98.833333"
      ]
     },
     "execution_count": 138,
     "metadata": {},
     "output_type": "execute_result"
    }
   ],
   "source": [
    "#display all algorithm performnace in tabular format\n",
    "#showing all algorithms with scenario A and B performance values\n",
    "columns = [\"Algorithm Name\",\"Precison\",\"Recall\",\"FScore\",\"Accuracy\"]\n",
    "values = []\n",
    "algorithm_names = [\"SVM\",\"KNN\", \"Decision Tree\", \"Random Forest\", \"XGBoost\", \"DNN\", \"LSTM\", \"Extension CNN\"]\n",
    "for i in range(len(algorithm_names)):\n",
    "    values.append([algorithm_names[i],precision[i],recall[i],fscore[i],accuracy[i]])\n",
    "    \n",
    "temp = pd.DataFrame(values,columns=columns)\n",
    "temp"
   ]
  },
  {
   "cell_type": "code",
   "execution_count": 139,
   "metadata": {},
   "outputs": [
    {
     "name": "stdout",
     "output_type": "stream",
     "text": [
      "Test Data = [2.1506087e+07 8.5300000e+03 8.6983600e+05 5.8991000e+04 3.0000000e+00\n",
      " 4.0000000e+00 2.4576000e+04 4.4000000e+01 1.3844480e+06 0.0000000e+00\n",
      " 4.6274600e+05 1.0921356e+07 0.0000000e+00] Predicted AS ====> Benign\n",
      "\n",
      "Test Data = [2.4040858e+07 6.2620000e+03 1.0111480e+06 8.8860000e+04 2.0000000e+00\n",
      " 3.5000000e+01 7.9462400e+05 1.2000000e+01 2.4985600e+05 0.0000000e+00\n",
      " 3.3243050e+06 1.2417450e+06 0.0000000e+00] Predicted AS ====> Ransomware\n",
      "\n",
      "Test Data = [8.6719703e+07 2.3200000e+02 3.1320000e+03 2.0025900e+05 0.0000000e+00\n",
      " 0.0000000e+00 0.0000000e+00 0.0000000e+00 0.0000000e+00 0.0000000e+00\n",
      " 0.0000000e+00 0.0000000e+00 0.0000000e+00] Predicted AS ====> Ransomware\n",
      "\n",
      "Test Data = [8.6837894e+07 1.4700000e+02 3.7560000e+03 2.1272200e+05 1.0000000e+00\n",
      " 0.0000000e+00 0.0000000e+00 0.0000000e+00 0.0000000e+00 0.0000000e+00\n",
      " 0.0000000e+00 0.0000000e+00 0.0000000e+00] Predicted AS ====> Ransomware\n",
      "\n",
      "Test Data = [4.8812020e+06 1.2856000e+04 3.3528000e+05 1.1150500e+05 7.0000000e+00\n",
      " 0.0000000e+00 0.0000000e+00 9.0000000e+00 1.3926400e+05 4.0000000e+00\n",
      " 0.0000000e+00 1.0810332e+07 3.3289180e+06] Predicted AS ====> Benign\n",
      "\n",
      "Test Data = [4.69570210e+07 2.35230000e+04 5.08945000e+05 9.48720000e+04\n",
      " 5.00000000e+00 1.10000000e+01 4.50560000e+04 3.20000000e+01\n",
      " 3.30547200e+06 0.00000000e+00 4.63762640e+07 5.15101297e+08\n",
      " 0.00000000e+00] Predicted AS ====> Benign\n",
      "\n",
      "Test Data = [5.57454240e+07 1.86330000e+04 2.32193000e+05 6.50860000e+04\n",
      " 0.00000000e+00 1.20000000e+01 4.91520000e+04 3.30000000e+01\n",
      " 3.27372800e+06 0.00000000e+00 4.15962290e+07 4.25664593e+08\n",
      " 0.00000000e+00] Predicted AS ====> Benign\n",
      "\n",
      "Test Data = [8.5647877e+07 6.4100000e+02 7.7710000e+03 2.0552600e+05 0.0000000e+00\n",
      " 0.0000000e+00 0.0000000e+00 0.0000000e+00 0.0000000e+00 0.0000000e+00\n",
      " 0.0000000e+00 0.0000000e+00 0.0000000e+00] Predicted AS ====> Ransomware\n",
      "\n"
     ]
    }
   ],
   "source": [
    "#now read test data and then predict ransom or benign using extension CNN model\n",
    "testData = pd.read_csv(\"Dataset/testData.csv\")#reading test data\n",
    "testData.fillna(0, inplace = True)\n",
    "temp = testData.values\n",
    "testData = testData.values\n",
    "testData = testData[:,0:testData.shape[1]-1]\n",
    "test = scaler.transform(testData)#normalizing values\n",
    "test = np.reshape(test, (test.shape[0], test.shape[1], 1, 1))\n",
    "predict = cnn_model.predict(test)#performing prediction on test data using extension CNN model\n",
    "for i in range(len(predict)):\n",
    "    pred = np.argmax(predict[i])\n",
    "    print(\"Test Data = \"+str(temp[i])+\" Predicted AS ====> \"+labels[pred]+\"\\n\")"
   ]
  },
  {
   "cell_type": "code",
   "execution_count": null,
   "metadata": {},
   "outputs": [],
   "source": []
  }
 ],
 "metadata": {
  "kernelspec": {
   "display_name": "Python 3",
   "language": "python",
   "name": "python3"
  },
  "language_info": {
   "codemirror_mode": {
    "name": "ipython",
    "version": 3
   },
   "file_extension": ".py",
   "mimetype": "text/x-python",
   "name": "python",
   "nbconvert_exporter": "python",
   "pygments_lexer": "ipython3",
   "version": "3.7.4"
  }
 },
 "nbformat": 4,
 "nbformat_minor": 5
}
